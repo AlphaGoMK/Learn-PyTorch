{
 "cells": [
  {
   "cell_type": "code",
   "execution_count": 2,
   "metadata": {},
   "outputs": [
    {
     "data": {
      "text/plain": [
       "Net(\n",
       "  (conv1): Conv2d (3, 6, kernel_size=(5, 5), stride=(1, 1))\n",
       "  (conv2): Conv2d (6, 16, kernel_size=(5, 5), stride=(1, 1))\n",
       "  (fc1): Linear(in_features=400, out_features=120)\n",
       "  (fc2): Linear(in_features=120, out_features=84)\n",
       "  (fc3): Linear(in_features=84, out_features=10)\n",
       ")"
      ]
     },
     "execution_count": 2,
     "metadata": {},
     "output_type": "execute_result"
    }
   ],
   "source": [
    "import torch.nn as nn\n",
    "import torch.nn.functional as F\n",
    "import torch\n",
    "from torch.autograd import Variable\n",
    "\n",
    "class Net(nn.Module):\n",
    "    def __init__(self):\n",
    "        super(Net,self).__init__()\n",
    "        self.conv1=nn.Conv2d(3,6,5)\n",
    "        self.conv2=nn.Conv2d(6,16,5)\n",
    "        self.fc1=nn.Linear(5*5*16,120)\n",
    "        self.fc2=nn.Linear(120,84)\n",
    "        self.fc3=nn.Linear(84,10)\n",
    "        \n",
    "    def forward(self,x):\n",
    "        x=F.max_pool2d(F.relu(self.conv1(x)),(2,2))\n",
    "        x=F.max_pool2d(F.relu(self.conv2(x)),2)\n",
    "        x=x.view(-1,self.num_flat_features(x))\n",
    "        x=F.relu(self.fc1(x))\n",
    "        x=F.relu(self.fc2(x))\n",
    "        x=self.fc3(x)\n",
    "        return x\n",
    "    \n",
    "    def num_flat_features(self,x):\n",
    "        size=x.size()[1:]\n",
    "        num_features=1\n",
    "        for s in size:\n",
    "            num_features*=s\n",
    "        return num_features    \n",
    "        \n",
    "net=Net()\n",
    "net"
   ]
  },
  {
   "cell_type": "code",
   "execution_count": 3,
   "metadata": {},
   "outputs": [
    {
     "name": "stdout",
     "output_type": "stream",
     "text": [
      "10\n",
      "torch.Size([6, 3, 5, 5])\n"
     ]
    },
    {
     "data": {
      "text/plain": [
       "Variable containing:\n",
       "1.00000e-02 *\n",
       "  6.6231 -2.5589 -9.4124  0.6895  1.9218  8.0875  0.8771 -5.3526  1.1202 -7.6638\n",
       "[torch.FloatTensor of size 1x10]"
      ]
     },
     "execution_count": 3,
     "metadata": {},
     "output_type": "execute_result"
    }
   ],
   "source": [
    "params=list(net.parameters())\n",
    "print(len(params))\n",
    "print(params[0].size())\n",
    "input=Variable(torch.randn(1,3,32,32)) # 1 batch, 3 channel, 32x32 size\n",
    "out=net(input)\n",
    "out"
   ]
  },
  {
   "cell_type": "code",
   "execution_count": 4,
   "metadata": {},
   "outputs": [
    {
     "data": {
      "text/plain": [
       "Variable containing:\n",
       " 28.6298\n",
       "[torch.FloatTensor of size 1]"
      ]
     },
     "execution_count": 4,
     "metadata": {},
     "output_type": "execute_result"
    }
   ],
   "source": [
    "target=Variable(torch.arange(0,10)) #[0,10) not include 10\n",
    "criterion=nn.MSELoss()\n",
    "loss=criterion(out,target)\n",
    "loss"
   ]
  },
  {
   "cell_type": "code",
   "execution_count": 5,
   "metadata": {},
   "outputs": [
    {
     "name": "stdout",
     "output_type": "stream",
     "text": [
      "<MseLossBackward object at 0x7fd31c0e34a8>\n"
     ]
    }
   ],
   "source": [
    "print(loss.grad_fn)"
   ]
  },
  {
   "cell_type": "code",
   "execution_count": 6,
   "metadata": {},
   "outputs": [
    {
     "name": "stdout",
     "output_type": "stream",
     "text": [
      "Files already downloaded and verified\n",
      "Files already downloaded and verified\n"
     ]
    }
   ],
   "source": [
    "import torchvision\n",
    "import torchvision.transforms as transforms\n",
    "\n",
    "\n",
    "# torchvision数据集的输出是在[0, 1]范围内的PILImage图片。\n",
    "# 我们此处使用归一化的方法将其转化为Tensor，数据范围为[-1, 1]\n",
    "\n",
    "transform=transforms.Compose([transforms.ToTensor(),\n",
    "                              transforms.Normalize((0.5, 0.5, 0.5), (0.5, 0.5, 0.5)),\n",
    "                             ])\n",
    "trainset = torchvision.datasets.CIFAR10(root='./data', train=True, download=True, transform=transform)\n",
    "trainloader = torch.utils.data.DataLoader(trainset, batch_size=4, \n",
    "                                          shuffle=True, num_workers=2)\n",
    "\n",
    "testset = torchvision.datasets.CIFAR10(root='./data', train=False, download=True, transform=transform)\n",
    "testloader = torch.utils.data.DataLoader(testset, batch_size=4, \n",
    "                                          shuffle=False, num_workers=2)\n",
    "classes = ('plane', 'car', 'bird', 'cat',\n",
    "           'deer', 'dog', 'frog', 'horse', 'ship', 'truck')"
   ]
  },
  {
   "cell_type": "code",
   "execution_count": 7,
   "metadata": {},
   "outputs": [
    {
     "name": "stdout",
     "output_type": "stream",
     "text": [
      " ship plane   car horse\n"
     ]
    }
   ],
   "source": [
    "import matplotlib.pyplot as plt\n",
    "import numpy as np\n",
    "def imshow(img):\n",
    "    img=img/2+0.5\n",
    "    npimg=img.numpy()\n",
    "    plt.imshow(np.transpose(npimg)) # transpose indices, eg (2,0,1), default exchange first two dimension\n",
    "\n",
    "dataiter=iter(trainloader)\n",
    "images,labels=dataiter.next()\n",
    "imshow(torchvision.utils.make_grid(images))\n",
    "\n",
    "print(' '.join('%5s'%classes[labels[j]] for j in range(4)))"
   ]
  },
  {
   "cell_type": "code",
   "execution_count": 8,
   "metadata": {},
   "outputs": [],
   "source": [
    "criterion=nn.CrossEntropyLoss()\n",
    "optimizer=torch.optim.SGD(net.parameters(),lr=0.001,momentum=0.9)"
   ]
  },
  {
   "cell_type": "code",
   "execution_count": 9,
   "metadata": {},
   "outputs": [
    {
     "name": "stdout",
     "output_type": "stream",
     "text": [
      "[1,  2000] loss: 2.214\n",
      "[1,  4000] loss: 1.867\n",
      "[1,  6000] loss: 1.717\n",
      "[1,  8000] loss: 1.607\n",
      "[1, 10000] loss: 1.543\n",
      "[1, 12000] loss: 1.497\n",
      "[2,  2000] loss: 1.444\n",
      "[2,  4000] loss: 1.367\n",
      "[2,  6000] loss: 1.372\n",
      "[2,  8000] loss: 1.333\n",
      "[2, 10000] loss: 1.309\n",
      "[2, 12000] loss: 1.263\n",
      "finish training\n"
     ]
    }
   ],
   "source": [
    "for epoch in range(2):\n",
    "    running_loss=0.0\n",
    "    for idx,data in enumerate(trainloader,0):\n",
    "        img,lab=data\n",
    "        img,lab=Variable(img),Variable(lab) # wrap into variable\n",
    "        # Variable是Tensor的一个wrapper, 一个是保存weights的Tensor，一个是保存grad的Variable。Variable的一些运算，\n",
    "        # 实际上就是里面的Tensor的运算, Variable默认代表的是里面存储的Tensor（weights）\n",
    "        # 更新的时候要用Tensor更新. Variable更多是用在feedforward中的，因为feedforward是需要记住各个Tensor之间联系的，\n",
    "        # 这样，才能正确的bp。Tensor不会记录路径。\n",
    "\n",
    "        # general\n",
    "        optimizer.zero_grad() # zero the parameter gradients\n",
    "        out=net(img) # forward\n",
    "        loss=criterion(out,lab) # loss function\n",
    "        loss.backward() # back propagation\n",
    "        # when execute backward for the second time, using retain_variables=True\n",
    "        # Further reading: Trying to backward through the graph second time, but the buffers have already been \n",
    "        # freed. Please specify retain_variables=True when calling backward for the first time\n",
    "        optimizer.step() # update params using SGD\n",
    "        \n",
    "        running_loss+=loss.data[0]\n",
    "        if idx % 2000 == 1999: # print every 2000 mini-batches\n",
    "            print('[%d, %5d] loss: %.3f' % (epoch+1, idx+1, running_loss / 2000))\n",
    "            running_loss = 0.0\n",
    "        # mini-batches size 2k\n",
    "\n",
    "print(\"finish training\")\n",
    "\n"
   ]
  },
  {
   "cell_type": "code",
   "execution_count": 10,
   "metadata": {},
   "outputs": [
    {
     "name": "stdout",
     "output_type": "stream",
     "text": [
      "Accuracy of the network on the 10000 test images: 55 %\n"
     ]
    }
   ],
   "source": [
    "correct=0\n",
    "total=0\n",
    "for data in testloader:\n",
    "    img,lab=data\n",
    "    out=net(Variable(img))\n",
    "    _,predict=torch.max(out.data,1) # out.data是一个4x10张量，max函数会将每一行的最大的那一列的值和序号各自组成一个一维张量返回，\n",
    "                                    # 第一个是值的张量，第二个是序号的张量\n",
    "    total+=lab.size(0)\n",
    "    correct+=(predict==lab).sum()\n",
    "    \n",
    "print('Accuracy of the network on the 10000 test images: %d %%' % (100 * correct / total))"
   ]
  },
  {
   "cell_type": "code",
   "execution_count": null,
   "metadata": {},
   "outputs": [],
   "source": []
  }
 ],
 "metadata": {
  "kernelspec": {
   "display_name": "pytorch36",
   "language": "python",
   "name": "pytorch36"
  },
  "language_info": {
   "codemirror_mode": {
    "name": "ipython",
    "version": 3
   },
   "file_extension": ".py",
   "mimetype": "text/x-python",
   "name": "python",
   "nbconvert_exporter": "python",
   "pygments_lexer": "ipython3",
   "version": "3.6.5"
  }
 },
 "nbformat": 4,
 "nbformat_minor": 2
}
